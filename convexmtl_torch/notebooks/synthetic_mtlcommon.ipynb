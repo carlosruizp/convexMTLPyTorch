{
 "cells": [
  {
   "cell_type": "code",
   "execution_count": 1,
   "metadata": {},
   "outputs": [],
   "source": [
    "%load_ext autoreload\n",
    "%autoreload 2\n",
    "\n",
    "import numpy as np\n",
    "from sklearn.model_selection import train_test_split\n",
    "\n",
    "from convexmtl_torch.model.ConvexTorchCombinator import ConvexTorchCombinator\n",
    "from convexmtl_torch.model.GraphLaplacianTorchCombinator import GraphLaplacianTorchCombinator\n",
    "from convexmtl_torch.model.utils import NeuralNetwork\n",
    "\n",
    "from convexmtl_torch.data.MTLSyntheticDataset import MTLCommonRegression\n",
    "\n",
    "import torch\n",
    "from torch.nn import MSELoss\n",
    "from torch.utils.data import TensorDataset\n",
    "from torch.utils.data import DataLoader\n",
    "from pytorch_lightning import Trainer\n",
    "\n",
    "from icecream import ic\n",
    "\n",
    "import matplotlib.pyplot as plt\n",
    "import matplotlib.cm as cm\n",
    "import random\n",
    "\n",
    "from copy import copy\n"
   ]
  },
  {
   "cell_type": "code",
   "execution_count": 2,
   "metadata": {},
   "outputs": [],
   "source": [
    "seed = 1\n",
    "\n",
    "np.random.seed(seed)\n",
    "random.seed(seed)"
   ]
  },
  {
   "cell_type": "code",
   "execution_count": 3,
   "metadata": {},
   "outputs": [],
   "source": [
    "max_epochs=2\n",
    "log_every_n_steps=10\n",
    "problem = 'common'"
   ]
  },
  {
   "cell_type": "code",
   "execution_count": 4,
   "metadata": {},
   "outputs": [
    {
     "name": "stderr",
     "output_type": "stream",
     "text": [
      "ic| tasks: [0, 1, 2, 3, 4]\n",
      "ic| colors: {0: (0.12156862745098039, 0.4666666666666667, 0.7058823529411765, 1.0),\n",
      "             1: (0.12156862745098039, 0.4666666666666667, 0.7058823529411765, 1.0),\n",
      "             2: (0.12156862745098039, 0.4666666666666667, 0.7058823529411765, 1.0),\n",
      "             3: (0.12156862745098039, 0.4666666666666667, 0.7058823529411765, 1.0),\n",
      "             4: (0.12156862745098039, 0.4666666666666667, 0.7058823529411765, 1.0)}\n",
      "ic| X_data.shape: (500, 1)\n"
     ]
    }
   ],
   "source": [
    "mtlds = MTLCommonRegression(n_samples_per_task=100)\n",
    "\n",
    "X, y = mtlds.X, mtlds.y\n",
    "\n",
    "if y.ndim < 2:\n",
    "    y = y[:, None]"
   ]
  },
  {
   "cell_type": "code",
   "execution_count": 5,
   "metadata": {},
   "outputs": [
    {
     "data": {
      "image/png": "[encoded data removed]",
      "text/plain": [
       "<Figure size 864x504 with 1 Axes>"
      ]
     },
     "metadata": {
      "needs_background": "light"
     },
     "output_type": "display_data"
    }
   ],
   "source": [
    "mtlds.plot_data_functions(X, y)"
   ]
  },
  {
   "cell_type": "code",
   "execution_count": 6,
   "metadata": {},
   "outputs": [],
   "source": [
    "X_train, X_test, y_train, y_test = train_test_split(X, y, test_size=0.33, random_state=42)\n",
    "\n",
    "X_test_numpy = copy(X_test)"
   ]
  },
  {
   "cell_type": "code",
   "execution_count": 7,
   "metadata": {},
   "outputs": [],
   "source": [
    "X_train, t_train = X_train[:,:-1], X_train[:,-1].astype(int)\n",
    "X_test, t_test = X_test[:,:-1], X_test[:,-1].astype(int)\n",
    "X_train, t_train, y_train = map(torch.tensor, (X_train, t_train, y_train))\n",
    "X_train, t_train, y_train = map(lambda obj: obj.float(), [X_train, t_train, y_train])\n",
    "X_test, t_test, y_test = map(torch.tensor, (X_test, t_test, y_test))\n",
    "X_test, t_test, y_test = map(lambda obj: obj.float(), [X_test, t_test, y_test])\n"
   ]
  },
  {
   "cell_type": "code",
   "execution_count": 8,
   "metadata": {},
   "outputs": [],
   "source": [
    "tasks = np.unique(t_train)\n",
    "n_tasks = len(tasks)"
   ]
  },
  {
   "cell_type": "code",
   "execution_count": 9,
   "metadata": {},
   "outputs": [],
   "source": [
    "# train_ds = TensorDataset(X_train, t_train, y_train)\n",
    "train_ds = TensorDataset(X_train, t_train, y_train)\n",
    "\n",
    "train_dl = DataLoader(train_ds, batch_size=32, shuffle=True)\n",
    "\n"
   ]
  },
  {
   "cell_type": "code",
   "execution_count": null,
   "metadata": {},
   "outputs": [],
   "source": []
  },
  {
   "attachments": {},
   "cell_type": "markdown",
   "metadata": {},
   "source": [
    "## ConvexMTL Torch"
   ]
  },
  {
   "cell_type": "code",
   "execution_count": 10,
   "metadata": {},
   "outputs": [],
   "source": [
    "max_epochs = 5"
   ]
  },
  {
   "cell_type": "code",
   "execution_count": 11,
   "metadata": {},
   "outputs": [],
   "source": [
    "model = ConvexTorchCombinator(n_features=1, n_output=1, n_channel=1, tasks=tasks, specific_lambda=False)\n",
    "# model = NeuralNetwork(n_features=1)"
   ]
  },
  {
   "cell_type": "code",
   "execution_count": 12,
   "metadata": {},
   "outputs": [
    {
     "name": "stderr",
     "output_type": "stream",
     "text": [
      "GPU available: False, used: False\n",
      "TPU available: False, using: 0 TPU cores\n",
      "IPU available: False, using: 0 IPUs\n",
      "HPU available: False, using: 0 HPUs\n",
      "\n",
      "  | Name           | Type          | Params\n",
      "-------------------------------------------------\n",
      "0 | common_module_ | NeuralNetwork | 8.5 K \n",
      "-------------------------------------------------\n",
      "8.5 K     Trainable params\n",
      "0         Non-trainable params\n",
      "8.5 K     Total params\n",
      "0.034     Total estimated model params size (MB)\n",
      "/home/carlos/anaconda3/envs/rkm/lib/python3.9/site-packages/pytorch_lightning/trainer/connectors/data_connector.py:224: PossibleUserWarning: The dataloader, train_dataloader, does not have many workers which may be a bottleneck. Consider increasing the value of the `num_workers` argument` (try 8 which is the number of cpus on this machine) in the `DataLoader` init to improve performance.\n",
      "  rank_zero_warn(\n"
     ]
    },
    {
     "name": "stdout",
     "output_type": "stream",
     "text": [
      "Epoch 4: 100%|██████████| 11/11 [00:00<00:00, 54.50it/s, loss=18.7, v_num=1]"
     ]
    },
    {
     "name": "stderr",
     "output_type": "stream",
     "text": [
      "`Trainer.fit` stopped: `max_epochs=5` reached.\n"
     ]
    },
    {
     "name": "stdout",
     "output_type": "stream",
     "text": [
      "Epoch 4: 100%|██████████| 11/11 [00:00<00:00, 50.44it/s, loss=18.7, v_num=1]\n"
     ]
    }
   ],
   "source": [
    "trainer = Trainer(max_epochs=max_epochs, log_every_n_steps=log_every_n_steps, default_root_dir='convex_{}_logs'.format(problem))\n",
    "\n",
    "trainer.fit(model, train_dl)"
   ]
  },
  {
   "cell_type": "code",
   "execution_count": 13,
   "metadata": {},
   "outputs": [
    {
     "data": {
      "text/plain": [
       "array([0., 1., 2., 3., 4.], dtype=float32)"
      ]
     },
     "execution_count": 13,
     "metadata": {},
     "output_type": "execute_result"
    }
   ],
   "source": [
    "model.tasks"
   ]
  },
  {
   "cell_type": "code",
   "execution_count": 14,
   "metadata": {},
   "outputs": [],
   "source": [
    "# pred = model(X_test, t_test)\n",
    "pred = model(X_test, t_test)"
   ]
  },
  {
   "cell_type": "code",
   "execution_count": 15,
   "metadata": {},
   "outputs": [
    {
     "data": {
      "text/plain": [
       "(165, 1)"
      ]
     },
     "execution_count": 15,
     "metadata": {},
     "output_type": "execute_result"
    }
   ],
   "source": [
    "pred_numpy = pred.detach().numpy()\n",
    "pred_numpy.shape"
   ]
  },
  {
   "cell_type": "code",
   "execution_count": 16,
   "metadata": {},
   "outputs": [
    {
     "data": {
      "image/png": "[encoded data removed]",
      "text/plain": [
       "<Figure size 864x504 with 1 Axes>"
      ]
     },
     "metadata": {
      "needs_background": "light"
     },
     "output_type": "display_data"
    }
   ],
   "source": [
    "mtlds.plot_data_functions(X_test_numpy, pred_numpy)"
   ]
  },
  {
   "cell_type": "code",
   "execution_count": 17,
   "metadata": {},
   "outputs": [
    {
     "name": "stderr",
     "output_type": "stream",
     "text": [
      "ic| self.lamb: Parameter containing:\n",
      "               tensor([0.3784], requires_grad=True)\n"
     ]
    },
    {
     "data": {
      "text/plain": [
       "array([0.59348243], dtype=float32)"
      ]
     },
     "execution_count": 17,
     "metadata": {},
     "output_type": "execute_result"
    }
   ],
   "source": [
    "model.get_lamb()"
   ]
  },
  {
   "attachments": {},
   "cell_type": "markdown",
   "metadata": {},
   "source": [
    "## GraphLaplacian Torch"
   ]
  },
  {
   "cell_type": "code",
   "execution_count": 18,
   "metadata": {},
   "outputs": [],
   "source": [
    "max_epochs=101"
   ]
  },
  {
   "cell_type": "code",
   "execution_count": 19,
   "metadata": {},
   "outputs": [],
   "source": [
    "model = GraphLaplacianTorchCombinator(n_features=1, n_output=1, n_channel=1, tasks=tasks, nu=0.1, mu=0.05, adj_lr=1e-2, log_matrix_freq=50)\n",
    "# model = NeuralNetwork(n_features=1)"
   ]
  },
  {
   "cell_type": "code",
   "execution_count": 20,
   "metadata": {},
   "outputs": [
    {
     "name": "stderr",
     "output_type": "stream",
     "text": [
      "GPU available: False, used: False\n",
      "TPU available: False, using: 0 TPU cores\n",
      "IPU available: False, using: 0 IPUs\n",
      "HPU available: False, using: 0 HPUs\n",
      "\n",
      "  | Name           | Type                   | Params\n",
      "----------------------------------------------------------\n",
      "0 | common_module_ | NeuralNetworkFeatLearn | 8.4 K \n",
      "----------------------------------------------------------\n",
      "8.4 K     Trainable params\n",
      "0         Non-trainable params\n",
      "8.4 K     Total params\n",
      "0.034     Total estimated model params size (MB)\n",
      "/home/carlos/anaconda3/envs/rkm/lib/python3.9/site-packages/pytorch_lightning/trainer/connectors/data_connector.py:224: PossibleUserWarning: The dataloader, train_dataloader, does not have many workers which may be a bottleneck. Consider increasing the value of the `num_workers` argument` (try 8 which is the number of cpus on this machine) in the `DataLoader` init to improve performance.\n",
      "  rank_zero_warn(\n"
     ]
    },
    {
     "name": "stdout",
     "output_type": "stream",
     "text": [
      "Epoch 0: 100%|██████████| 11/11 [00:00<00:00, 12.49it/s, loss=57.5, v_num=1]"
     ]
    },
    {
     "name": "stderr",
     "output_type": "stream",
     "text": [
      "ic| self.get_adjMatrix(): array([[1.00000000e+00, 1.14242837e-09, 1.14242404e-09, 1.14241516e-09,\n",
      "                                  1.14243048e-09],\n",
      "                                 [1.14242837e-09, 1.00000000e+00, 1.14242837e-09, 1.14241305e-09,\n",
      "                                  1.14241960e-09],\n",
      "                                 [1.14242404e-09, 1.14242837e-09, 1.00000000e+00, 1.14242404e-09,\n",
      "                                  1.14242404e-09],\n",
      "                                 [1.14241516e-09, 1.14241305e-09, 1.14242404e-09, 1.00000000e+00,\n",
      "                                  1.14241305e-09],\n",
      "                                 [1.14243048e-09, 1.14241960e-09, 1.14242404e-09, 1.14241305e-09,\n",
      "                                  1.00000000e+00]])\n",
      "ic| self.entropy: {0.0: {0.0: tensor([[-0.]], grad_fn=<MulBackward0>),\n",
      "                         1.0: tensor([[2.3253e-08]], grad_fn=<MulBackward0>),\n",
      "                         2.0: tensor([[2.3253e-08]], grad_fn=<MulBackward0>),\n",
      "                         3.0: tensor([[2.3253e-08]], grad_fn=<MulBackward0>),\n",
      "                         4.0: tensor([[2.3253e-08]], grad_fn=<MulBackward0>)},\n",
      "                   1.0: {0.0: tensor([[2.3253e-08]], grad_fn=<MulBackward0>),\n",
      "                         1.0: tensor([[-0.]], grad_fn=<MulBackward0>),\n",
      "                         2.0: tensor([[2.3253e-08]], grad_fn=<MulBackward0>),\n",
      "                         3.0: tensor([[2.3253e-08]], grad_fn=<MulBackward0>),\n",
      "                         4.0: tensor([[2.3253e-08]], grad_fn=<MulBackward0>)},\n",
      "                   2.0: {0.0: tensor([[2.3253e-08]], grad_fn=<MulBackward0>),\n",
      "                         1.0: tensor([[2.3253e-08]], grad_fn=<MulBackward0>),\n",
      "                         2.0: tensor([[-0.]], grad_fn=<MulBackward0>),\n",
      "                         3.0: tensor([[2.3253e-08]], grad_fn=<MulBackward0>),\n",
      "                         4.0: tensor([[2.3253e-08]], grad_fn=<MulBackward0>)},\n",
      "                   3.0: {0.0: tensor([[2.3253e-08]], grad_fn=<MulBackward0>),\n",
      "                         1.0: tensor([[2.3253e-08]], grad_fn=<MulBackward0>),\n",
      "                         2.0: tensor([[2.3253e-08]], grad_fn=<MulBackward0>),\n",
      "                         3.0: tensor([[-0.]], grad_fn=<MulBackward0>),\n",
      "                         4.0: tensor([[2.3253e-08]], grad_fn=<MulBackward0>)},\n",
      "                   4.0: {0.0: tensor([[2.3253e-08]], grad_fn=<MulBackward0>),\n",
      "                         1.0: tensor([[2.3253e-08]], grad_fn=<MulBackward0>),\n",
      "                         2.0: tensor([[2.3253e-08]], grad_fn=<MulBackward0>),\n",
      "                         3.0: tensor([[2.3253e-08]], grad_fn=<MulBackward0>),\n",
      "                         4.0: tensor([[-0.]], grad_fn=<MulBackward0>)}}\n",
      "ic| self.current_epoch: 0\n"
     ]
    },
    {
     "name": "stdout",
     "output_type": "stream",
     "text": [
      "Epoch 50: 100%|██████████| 11/11 [00:00<00:00, 19.62it/s, loss=0.105, v_num=1]"
     ]
    },
    {
     "name": "stderr",
     "output_type": "stream",
     "text": [
      "ic| self.get_adjMatrix(): array([[9.99979079e-01, 5.30510215e-06, 5.17079616e-06, 5.02853118e-06,\n",
      "                                  5.42149110e-06],\n",
      "                                 [5.30512307e-06, 9.99979198e-01, 5.30008629e-06, 4.96134726e-06,\n",
      "                                  5.14594376e-06],\n",
      "                                 [5.17079616e-06, 5.30008583e-06, 9.99979079e-01, 5.25646328e-06,\n",
      "                                  5.18707520e-06],\n",
      "                                 [5.02853482e-06, 4.96135044e-06, 5.25646738e-06, 9.99979854e-01,\n",
      "                                  4.88759133e-06],\n",
      "                                 [5.42149246e-06, 5.14594467e-06, 5.18707657e-06, 4.88758860e-06,\n",
      "                                  9.99979317e-01]])\n",
      "ic| self.entropy: {0.0: {0.0: tensor([[2.0087e-05]], grad_fn=<MulBackward0>),\n",
      "                         1.0: tensor([[6.2261e-05]], grad_fn=<MulBackward0>),\n",
      "                         2.0: tensor([[6.0831e-05]], grad_fn=<MulBackward0>),\n",
      "                         3.0: tensor([[5.9310e-05]], grad_fn=<MulBackward0>),\n",
      "                         4.0: tensor([[6.3494e-05]], grad_fn=<MulBackward0>)},\n",
      "                   1.0: {0.0: tensor([[6.2262e-05]], grad_fn=<MulBackward0>),\n",
      "                         1.0: tensor([[1.9848e-05]], grad_fn=<MulBackward0>),\n",
      "                         2.0: tensor([[6.2208e-05]], grad_fn=<MulBackward0>),\n",
      "                         3.0: tensor([[5.8591e-05]], grad_fn=<MulBackward0>),\n",
      "                         4.0: tensor([[6.0564e-05]], grad_fn=<MulBackward0>)},\n",
      "                   2.0: {0.0: tensor([[6.0831e-05]], grad_fn=<MulBackward0>),\n",
      "                         1.0: tensor([[6.2208e-05]], grad_fn=<MulBackward0>),\n",
      "                         2.0: tensor([[2.0206e-05]], grad_fn=<MulBackward0>),\n",
      "                         3.0: tensor([[6.1741e-05]], grad_fn=<MulBackward0>),\n",
      "                         4.0: tensor([[6.1003e-05]], grad_fn=<MulBackward0>)},\n",
      "                   3.0: {0.0: tensor([[5.9310e-05]], grad_fn=<MulBackward0>),\n",
      "                         1.0: tensor([[5.8591e-05]], grad_fn=<MulBackward0>),\n",
      "                         2.0: tensor([[6.1741e-05]], grad_fn=<MulBackward0>),\n",
      "                         3.0: tensor([[1.9431e-05]], grad_fn=<MulBackward0>),\n",
      "                         4.0: tensor([[5.7803e-05]], grad_fn=<MulBackward0>)},\n",
      "                   4.0: {0.0: tensor([[6.3494e-05]], grad_fn=<MulBackward0>),\n",
      "                         1.0: tensor([[6.0564e-05]], grad_fn=<MulBackward0>),\n",
      "                         2.0: tensor([[6.1003e-05]], grad_fn=<MulBackward0>),\n",
      "                         3.0: tensor([[5.7803e-05]], grad_fn=<MulBackward0>),\n",
      "                         4.0: tensor([[1.9848e-05]], grad_fn=<MulBackward0>)}}\n",
      "ic| self.current_epoch: 50\n"
     ]
    },
    {
     "name": "stdout",
     "output_type": "stream",
     "text": [
      "Epoch 100: 100%|██████████| 11/11 [00:00<00:00, 16.89it/s, loss=0.00854, v_num=1]"
     ]
    },
    {
     "name": "stderr",
     "output_type": "stream",
     "text": [
      "ic| self.get_adjMatrix(): array([[0.29703927, 0.19026019, 0.17327188, 0.14220133, 0.19722731],\n",
      "                                 [0.19069777, 0.32619238, 0.17612492, 0.14713641, 0.15984853],\n",
      "                                 [0.17354555, 0.17598346, 0.312767  , 0.18098511, 0.15671891],\n",
      "                                 [0.14371163, 0.14826928, 0.18262863, 0.40412503, 0.12126537],\n",
      "                                 [0.19856036, 0.1604642 , 0.1574946 , 0.12077823, 0.36270273]])\n",
      "ic| self.entropy: {0.0: {0.0: tensor([[0.3606]], grad_fn=<MulBackward0>),\n",
      "                         1.0: tensor([[0.3157]], grad_fn=<MulBackward0>),\n",
      "                         2.0: tensor([[0.3037]], grad_fn=<MulBackward0>),\n",
      "                         3.0: tensor([[0.2773]], grad_fn=<MulBackward0>),\n",
      "                         4.0: tensor([[0.3202]], grad_fn=<MulBackward0>)},\n",
      "                   1.0: {0.0: tensor([[0.3160]], grad_fn=<MulBackward0>),\n",
      "                         1.0: tensor([[0.3654]], grad_fn=<MulBackward0>),\n",
      "                         2.0: tensor([[0.3058]], grad_fn=<MulBackward0>),\n",
      "                         3.0: tensor([[0.2819]], grad_fn=<MulBackward0>),\n",
      "                         4.0: tensor([[0.2931]], grad_fn=<MulBackward0>)},\n",
      "                   2.0: {0.0: tensor([[0.3039]], grad_fn=<MulBackward0>),\n",
      "                         1.0: tensor([[0.3057]], grad_fn=<MulBackward0>),\n",
      "                         2.0: tensor([[0.3635]], grad_fn=<MulBackward0>),\n",
      "                         3.0: tensor([[0.3093]], grad_fn=<MulBackward0>),\n",
      "                         4.0: tensor([[0.2904]], grad_fn=<MulBackward0>)},\n",
      "                   3.0: {0.0: tensor([[0.2788]], grad_fn=<MulBackward0>),\n",
      "                         1.0: tensor([[0.2830]], grad_fn=<MulBackward0>),\n",
      "                         2.0: tensor([[0.3105]], grad_fn=<MulBackward0>),\n",
      "                         3.0: tensor([[0.3661]], grad_fn=<MulBackward0>),\n",
      "                         4.0: tensor([[0.2558]], grad_fn=<MulBackward0>)},\n",
      "                   4.0: {0.0: tensor([[0.3210]], grad_fn=<MulBackward0>),\n",
      "                         1.0: tensor([[0.2936]], grad_fn=<MulBackward0>),\n",
      "                         2.0: tensor([[0.2911]], grad_fn=<MulBackward0>),\n",
      "                         3.0: tensor([[0.2553]], grad_fn=<MulBackward0>),\n",
      "                         4.0: tensor([[0.3678]], grad_fn=<MulBackward0>)}}\n",
      "ic| self.current_epoch: 100\n"
     ]
    },
    {
     "name": "stdout",
     "output_type": "stream",
     "text": [
      "Epoch 100: 100%|██████████| 11/11 [00:01<00:00,  6.21it/s, loss=0.00854, v_num=1]"
     ]
    },
    {
     "name": "stderr",
     "output_type": "stream",
     "text": [
      "`Trainer.fit` stopped: `max_epochs=101` reached.\n"
     ]
    },
    {
     "name": "stdout",
     "output_type": "stream",
     "text": [
      "Epoch 100: 100%|██████████| 11/11 [00:01<00:00,  5.99it/s, loss=0.00854, v_num=1]\n"
     ]
    }
   ],
   "source": [
    "trainer = Trainer(max_epochs=max_epochs, log_every_n_steps=log_every_n_steps, default_root_dir='gl_{}_logs'.format(problem))\n",
    "\n",
    "trainer.fit(model, train_dl)"
   ]
  },
  {
   "cell_type": "code",
   "execution_count": 21,
   "metadata": {},
   "outputs": [
    {
     "data": {
      "text/plain": [
       "array([[0.29703927, 0.19026019, 0.17327188, 0.14220133, 0.19722731],\n",
       "       [0.19069777, 0.32619238, 0.17612492, 0.14713641, 0.15984853],\n",
       "       [0.17354555, 0.17598346, 0.312767  , 0.18098511, 0.15671891],\n",
       "       [0.14371163, 0.14826928, 0.18262863, 0.40412503, 0.12126537],\n",
       "       [0.19856036, 0.1604642 , 0.1574946 , 0.12077823, 0.36270273]])"
      ]
     },
     "execution_count": 21,
     "metadata": {},
     "output_type": "execute_result"
    }
   ],
   "source": [
    "model.get_adjMatrix()"
   ]
  },
  {
   "cell_type": "code",
   "execution_count": 22,
   "metadata": {},
   "outputs": [],
   "source": [
    "# pred = model(X_test, t_test)\n",
    "pred = model(X_test, t_test)"
   ]
  },
  {
   "cell_type": "code",
   "execution_count": 23,
   "metadata": {},
   "outputs": [
    {
     "data": {
      "text/plain": [
       "(165, 1)"
      ]
     },
     "execution_count": 23,
     "metadata": {},
     "output_type": "execute_result"
    }
   ],
   "source": [
    "pred_numpy = pred.detach().numpy()\n",
    "pred_numpy.shape"
   ]
  },
  {
   "cell_type": "code",
   "execution_count": 24,
   "metadata": {},
   "outputs": [
    {
     "data": {
      "image/png": "[encoded data removed]",
      "text/plain": [
       "<Figure size 864x504 with 1 Axes>"
      ]
     },
     "metadata": {
      "needs_background": "light"
     },
     "output_type": "display_data"
    }
   ],
   "source": [
    "mtlds.plot_data_functions(X_test_numpy, pred_numpy)"
   ]
  },
  {
   "cell_type": "code",
   "execution_count": 25,
   "metadata": {},
   "outputs": [],
   "source": [
    "adjMatrix = model.get_adjMatrix()"
   ]
  },
  {
   "cell_type": "code",
   "execution_count": 26,
   "metadata": {},
   "outputs": [
    {
     "data": {
      "text/plain": [
       "array([[0.29703927, 0.19026019, 0.17327188, 0.14220133, 0.19722731],\n",
       "       [0.19069777, 0.32619238, 0.17612492, 0.14713641, 0.15984853],\n",
       "       [0.17354555, 0.17598346, 0.312767  , 0.18098511, 0.15671891],\n",
       "       [0.14371163, 0.14826928, 0.18262863, 0.40412503, 0.12126537],\n",
       "       [0.19856036, 0.1604642 , 0.1574946 , 0.12077823, 0.36270273]])"
      ]
     },
     "execution_count": 26,
     "metadata": {},
     "output_type": "execute_result"
    }
   ],
   "source": [
    "adjMatrix"
   ]
  },
  {
   "cell_type": "code",
   "execution_count": 27,
   "metadata": {},
   "outputs": [
    {
     "data": {
      "text/plain": [
       "<AxesSubplot:>"
      ]
     },
     "execution_count": 27,
     "metadata": {},
     "output_type": "execute_result"
    },
    {
     "data": {
      "image/png": "[encoded data removed]",
      "text/plain": [
       "<Figure size 720x576 with 2 Axes>"
      ]
     },
     "metadata": {
      "needs_background": "light"
     },
     "output_type": "display_data"
    }
   ],
   "source": [
    "import seaborn as sns\n",
    "\n",
    "plt.figure(figsize=(10, 8))\n",
    "ax = plt.gca()\n",
    "sns.heatmap(adjMatrix, xticklabels=tasks, yticklabels=tasks, vmin=0, vmax=1, ax=ax)"
   ]
  },
  {
   "attachments": {},
   "cell_type": "markdown",
   "metadata": {},
   "source": [
    "## tensorboard"
   ]
  },
  {
   "cell_type": "code",
   "execution_count": 28,
   "metadata": {},
   "outputs": [
    {
     "data": {
      "text/html": [
       "\n",
       "      <iframe id=\"tensorboard-frame-91b7584a2265b1f5\" width=\"100%\" height=\"800\" frameborder=\"0\">\n",
       "      </iframe>\n",
       "      <script>\n",
       "        (function() {\n",
       "          const frame = document.getElementById(\"tensorboard-frame-91b7584a2265b1f5\");\n",
       "          const url = new URL(\"/\", window.location);\n",
       "          const port = 6006;\n",
       "          if (port) {\n",
       "            url.port = port;\n",
       "          }\n",
       "          frame.src = url;\n",
       "        })();\n",
       "      </script>\n",
       "    "
      ],
      "text/plain": [
       "<IPython.core.display.HTML object>"
      ]
     },
     "metadata": {},
     "output_type": "display_data"
    }
   ],
   "source": [
    "%reload_ext tensorboard\n",
    "%tensorboard --logdir=gl_common_logs/"
   ]
  },
  {
   "cell_type": "code",
   "execution_count": null,
   "metadata": {},
   "outputs": [],
   "source": []
  }
 ],
 "metadata": {
  "kernelspec": {
   "display_name": "rkm",
   "language": "python",
   "name": "python3"
  },
  "language_info": {
   "codemirror_mode": {
    "name": "ipython",
    "version": 3
   },
   "file_extension": ".py",
   "mimetype": "text/x-python",
   "name": "python",
   "nbconvert_exporter": "python",
   "pygments_lexer": "ipython3",
   "version": "3.9.7"
  },
  "orig_nbformat": 4,
  "vscode": {
   "interpreter": {
    "hash": "8a6a2d1ee85a695a4a79f9332092bdcbe99992a1094a2eafe79b6f00ee3e6f62"
   }
  }
 },
 "nbformat": 4,
 "nbformat_minor": 2
}
