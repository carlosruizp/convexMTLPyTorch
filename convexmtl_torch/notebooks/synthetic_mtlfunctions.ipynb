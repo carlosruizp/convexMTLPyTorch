{
 "cells": [
  {
   "cell_type": "code",
   "execution_count": 36,
   "metadata": {},
   "outputs": [
    {
     "name": "stdout",
     "output_type": "stream",
     "text": [
      "The autoreload extension is already loaded. To reload it, use:\n",
      "  %reload_ext autoreload\n"
     ]
    },
    {
     "name": "stderr",
     "output_type": "stream",
     "text": [
      "[autoreload of convexmtl_torch.model.utils failed: Traceback (most recent call last):\n",
      "  File \"/home/carlos/anaconda3/envs/rkm/lib/python3.9/site-packages/IPython/extensions/autoreload.py\", line 245, in check\n",
      "    superreload(m, reload, self.old_objects)\n",
      "  File \"/home/carlos/anaconda3/envs/rkm/lib/python3.9/site-packages/IPython/extensions/autoreload.py\", line 394, in superreload\n",
      "    module = reload(module)\n",
      "  File \"/home/carlos/anaconda3/envs/rkm/lib/python3.9/imp.py\", line 314, in reload\n",
      "    return importlib.reload(module)\n",
      "  File \"/home/carlos/anaconda3/envs/rkm/lib/python3.9/importlib/__init__.py\", line 166, in reload\n",
      "    spec = module.__spec__ = _bootstrap._find_spec(name, pkgpath, target)\n",
      "  File \"<frozen importlib._bootstrap>\", line 925, in _find_spec\n",
      "  File \"<frozen importlib._bootstrap_external>\", line 1414, in find_spec\n",
      "  File \"<frozen importlib._bootstrap_external>\", line 1380, in _get_spec\n",
      "  File \"<frozen importlib._bootstrap_external>\", line 1246, in __iter__\n",
      "  File \"<frozen importlib._bootstrap_external>\", line 1234, in _recalculate\n",
      "  File \"<frozen importlib._bootstrap_external>\", line 1230, in _get_parent_path\n",
      "KeyError: 'convexmtl_torch'\n",
      "]\n",
      "[autoreload of convexmtl_torch.model.HardSharingTorchCombinator failed: Traceback (most recent call last):\n",
      "  File \"/home/carlos/anaconda3/envs/rkm/lib/python3.9/site-packages/IPython/extensions/autoreload.py\", line 245, in check\n",
      "    superreload(m, reload, self.old_objects)\n",
      "  File \"/home/carlos/anaconda3/envs/rkm/lib/python3.9/site-packages/IPython/extensions/autoreload.py\", line 394, in superreload\n",
      "    module = reload(module)\n",
      "  File \"/home/carlos/anaconda3/envs/rkm/lib/python3.9/imp.py\", line 314, in reload\n",
      "    return importlib.reload(module)\n",
      "  File \"/home/carlos/anaconda3/envs/rkm/lib/python3.9/importlib/__init__.py\", line 166, in reload\n",
      "    spec = module.__spec__ = _bootstrap._find_spec(name, pkgpath, target)\n",
      "  File \"<frozen importlib._bootstrap>\", line 925, in _find_spec\n",
      "  File \"<frozen importlib._bootstrap_external>\", line 1414, in find_spec\n",
      "  File \"<frozen importlib._bootstrap_external>\", line 1380, in _get_spec\n",
      "  File \"<frozen importlib._bootstrap_external>\", line 1246, in __iter__\n",
      "  File \"<frozen importlib._bootstrap_external>\", line 1234, in _recalculate\n",
      "  File \"<frozen importlib._bootstrap_external>\", line 1230, in _get_parent_path\n",
      "KeyError: 'convexmtl_torch'\n",
      "]\n"
     ]
    }
   ],
   "source": [
    "%load_ext autoreload\n",
    "%autoreload 2\n",
    "\n",
    "import numpy as np\n",
    "from sklearn.model_selection import train_test_split\n",
    "\n",
    "from convexmtl_torch.model.ConvexTorchCombinator import ConvexTorchCombinator\n",
    "from convexmtl_torch.model.utils import NeuralNetwork\n",
    "\n",
    "import torch\n",
    "from torch.nn import MSELoss\n",
    "from torch.utils.data import TensorDataset\n",
    "from torch.utils.data import DataLoader\n",
    "from pytorch_lightning import Trainer\n",
    "\n",
    "from icecream import ic\n",
    "\n",
    "import matplotlib.pyplot as plt\n",
    "import matplotlib.cm as cm\n",
    "\n",
    "from copy import copy\n"
   ]
  },
  {
   "cell_type": "code",
   "execution_count": 37,
   "metadata": {},
   "outputs": [
    {
     "name": "stdout",
     "output_type": "stream",
     "text": [
      "Epoch 446: 100%|██████████| 3/3 [20:09<00:00, 403.18s/it, loss=0.499, v_num=81]\n"
     ]
    }
   ],
   "source": [
    "class MTLFunctionsRegression():\n",
    "    \"\"\"\n",
    "    A class to generate a synthetic regression dataset.\n",
    "\n",
    "    Parameters\n",
    "    ----------\n",
    "    n_samples : int\n",
    "        The number of samples to generate.\n",
    "    noise : float\n",
    "        The standard deviation of the Gaussian noise to add to the target.\n",
    "    random_state : int or None\n",
    "        The seed to use for the random number generator.\n",
    "    \"\"\"\n",
    "\n",
    "    def __init__(self, n_samples_per_task=25, noise=0.1, n_tasks=4, random_state=42, start=1., stop=10.):\n",
    "        self.n_samples_per_task = n_samples_per_task\n",
    "        self.noise = noise\n",
    "        self.n_tasks = n_tasks\n",
    "        self.random_state = random_state\n",
    "        self.start = start\n",
    "        self.stop = stop\n",
    "        np.random.seed(self.random_state)\n",
    "        self.task_functions = self._generate_task_functions()\n",
    "        self.X, self.y = self._generate_data()\n",
    "\n",
    "    \n",
    "    def _function_task(self, x, t=None):\n",
    "        y = np.sin(x)\n",
    "        if t is not None:\n",
    "            y += (1e-6 * self.poly_tasks[t](x))\n",
    "        return y\n",
    "\n",
    "    def _generate_task_functions(self):\n",
    "        self.poly_tasks = {}\n",
    "        for t in range(self.n_tasks):\n",
    "            shape = np.random.randint(1, 10, size=1)\n",
    "            coefs = np.random.randn(shape[0])\n",
    "            self.poly_tasks[t] = np.poly1d(coefs)\n",
    "\n",
    "        ic(self.poly_tasks)\n",
    "\n",
    "        task_functions = {}\n",
    "        for t in range(self.n_tasks):\n",
    "            task_functions[t] = (lambda x: self._function_task(x, t=t))\n",
    "\n",
    "        return task_functions\n",
    "\n",
    "    def _generate_data(self):\n",
    "        \"\"\"\n",
    "        Generate the synthetic data.\n",
    "        \"\"\"        \n",
    "        m_t = self.n_samples_per_task\n",
    "        N = m_t * self.n_tasks\n",
    "        \n",
    "        x_l = []\n",
    "        y_l = []\n",
    "        t_l = []\n",
    "        dic_w = {}\n",
    "\n",
    "        rng = np.random.RandomState(self.random_state)\n",
    "\n",
    "        for t in range(self.n_tasks):            \n",
    "            f_t = self.task_functions[t]\n",
    "            x_task = np.linspace(self.start, self.stop, m_t)[:, None]\n",
    "\n",
    "            ic(x_task.shape)\n",
    "            \n",
    "            y_task = self._function_task(x_task, t) + + rng.randn(self.n_samples_per_task)[:, None] * self.noise\n",
    "            t_task = t * np.ones(y_task.shape)\n",
    "\n",
    "            x_l.append(x_task)\n",
    "            y_l.append(y_task)\n",
    "            t_l.append(t_task)\n",
    "\n",
    "\n",
    "        X_data = np.concatenate(x_l, axis=0)\n",
    "        t = np.concatenate(t_l, axis=0)\n",
    "        X = np.concatenate((X_data, t), axis=1)\n",
    "        y = np.concatenate(y_l, axis=0).flatten()\n",
    "\n",
    "        return X, y\n",
    "\n",
    "    def generate_new_data(self, n_samples_per_task=None, n_tasks=None, noise=None, random_state=None):\n",
    "        \"\"\"\n",
    "        Generates new dataset with given parameters.\n",
    "        \"\"\"\n",
    "        if n_samples_per_task is None:\n",
    "            n_samples_per_task = self.n_samples_per_task\n",
    "        if n_tasks is None:\n",
    "            n_tasks = self.n_tasks\n",
    "        if noise is None:\n",
    "            noise = self.noise\n",
    "        if random_state is None:\n",
    "            random_state = self.random_state\n",
    "        self.n_samples_per_task = n_samples_per_task\n",
    "        self.n_tasks = n_tasks\n",
    "        self.noise = noise\n",
    "        self.random_state = random_state\n",
    "        self.X, self.y = self._generate_data()\n",
    "\n",
    "    def plot_functions(self, ax=None):\n",
    "        x_linsp = np.linspace(self.start, self.stop)\n",
    "        if ax is None:\n",
    "            fig = plt.figure(figsize=(12, 7))\n",
    "            ax = plt.gca()\n",
    "        # plt.plot(np.linspace(self.start, self.stop), f(np.linspace(self.start, self.stop)), color='black', label='sin(x)')\n",
    "        for t in range(self.n_tasks):\n",
    "            f_t = self.task_functions[t]\n",
    "            ax.plot(x_linsp, self._function_task(x_linsp, t), color=cm.tab10(t), linestyle='--')\n",
    "            #plt.scatter(data_x[i*m_r:(i+1)*m_r], data_y[i*m_r:(i+1)*m_r], label='task {}'.format(t), color=cm.tab10(t))\n",
    "\n",
    "        plt.legend()\n",
    "        # plt.title('Multi-Task Toy Problem'.format(data_name))\n",
    "        # plt.tight_layout()\n",
    "        # plt.savefig('toyproblem_{}.pdf'.format(data_name))\n",
    "\n",
    "    def plot_data(self, X, y, ax=None):\n",
    "        if ax is None:\n",
    "            fig = plt.figure(figsize=(12, 7))\n",
    "            ax = plt.gca()\n",
    "        # plt.plot(np.linspace(self.\n",
    "        X_data = X[:, :-1]\n",
    "        t_col = X[:, -1]\n",
    "        for t in range(self.n_tasks):\n",
    "            t_idx = (t_col == t)\n",
    "            ax.scatter(X_data[t_idx], y[t_idx], color=cm.tab10(t))\n",
    "            #plt.scatter(data_x[i*m_r:(i+1)*m_r], data_y[i*m_r:(i+1)*m_r], label='task {}'.format(t), color=cm.tab10(t))\n",
    "\n",
    "        plt.legend()\n",
    "        # plt.title('Multi-Task Toy Problem'.format(data_name))\n",
    "        # plt.tight_layout()\n",
    "        # plt.savefig('toyproblem_{}.pdf'.format(data_name))\n",
    "\n",
    "    def plot_data_functions(self, X, y, ax=None):\n",
    "        if ax is None:\n",
    "            fig = plt.figure(figsize=(12, 7))\n",
    "            ax = plt.gca()\n",
    "        self.plot_data(X, y, ax=ax)\n",
    "        self.plot_functions(ax=ax)"
   ]
  },
  {
   "cell_type": "code",
   "execution_count": 38,
   "metadata": {},
   "outputs": [
    {
     "name": "stderr",
     "output_type": "stream",
     "text": [
      "ic| self.poly_tasks: {0: poly1d([-0.55023449,  0.51543307,  0.47386083,  1.36845012, -0.91682684,\n",
      "                            -0.12414718, -2.01096289]),\n",
      "                      1: poly1d([-0.49280342, -0.58087813, -0.52516981, -0.57138017, -0.92408284,\n",
      "                            -2.61254901,  0.95036968,  0.81644508]),\n",
      "                      2: poly1d([-1.523876  ,  0.1424646 , -0.03465218]),\n",
      "                      3: poly1d([ 0.12221917, -0.51543566, -0.60025385,  0.94743982,  0.291034  ,\n",
      "                            -0.63555974, -1.02155219, -0.16175539, -0.5336488 ])}\n",
      "ic| x_task.shape: (25, 1)\n",
      "ic| x_task.shape: (25, 1)\n",
      "ic| x_task.shape: (25, 1)\n",
      "ic| x_task.shape: (25, 1)\n"
     ]
    }
   ],
   "source": [
    "mtlds = MTLFunctionsRegression()\n",
    "\n",
    "X, y = mtlds.X, mtlds.y\n",
    "\n",
    "if y.ndim < 2:\n",
    "    y = y[:, None]"
   ]
  },
  {
   "cell_type": "code",
   "execution_count": 39,
   "metadata": {},
   "outputs": [
    {
     "name": "stderr",
     "output_type": "stream",
     "text": [
      "No handles with labels found to put in legend.\n",
      "No handles with labels found to put in legend.\n"
     ]
    },
    {
     "data": {
      "image/png": "[encoded data removed]",
      "text/plain": [
       "<Figure size 864x504 with 1 Axes>"
      ]
     },
     "metadata": {
      "needs_background": "light"
     },
     "output_type": "display_data"
    }
   ],
   "source": [
    "mtlds.plot_data_functions(X, y)"
   ]
  },
  {
   "cell_type": "code",
   "execution_count": 40,
   "metadata": {},
   "outputs": [],
   "source": [
    "X_train, X_test, y_train, y_test = train_test_split(X, y, test_size=0.33, random_state=42)\n",
    "\n",
    "X_test_numpy = copy(X_test)"
   ]
  },
  {
   "cell_type": "code",
   "execution_count": 41,
   "metadata": {},
   "outputs": [],
   "source": [
    "X_train, t_train = X_train[:,:-1], X_train[:,-1]\n",
    "X_test, t_test = X_test[:,:-1], X_test[:,-1]\n",
    "X_train, t_train, y_train = map(torch.tensor, (X_train, t_train, y_train))\n",
    "X_train, t_train, y_train = map(lambda obj: obj.float(), [X_train, t_train, y_train])\n",
    "X_test, t_test, y_test = map(torch.tensor, (X_test, t_test, y_test))\n",
    "X_test, t_test, y_test = map(lambda obj: obj.float(), [X_test, t_test, y_test])\n"
   ]
  },
  {
   "cell_type": "code",
   "execution_count": 42,
   "metadata": {},
   "outputs": [],
   "source": [
    "# train_ds = TensorDataset(X_train, t_train, y_train)\n",
    "train_ds = TensorDataset(X_train, t_train, y_train)\n",
    "\n",
    "train_dl = DataLoader(train_ds, batch_size=32, shuffle=True)\n",
    "\n"
   ]
  },
  {
   "cell_type": "code",
   "execution_count": 43,
   "metadata": {},
   "outputs": [],
   "source": [
    "model = ConvexTorchCombinator(n_features=1, n_output=1, n_channel=1, tasks=range(4), lamb=0)\n",
    "# model = NeuralNetwork(n_features=1)"
   ]
  },
  {
   "cell_type": "code",
   "execution_count": 44,
   "metadata": {},
   "outputs": [
    {
     "name": "stderr",
     "output_type": "stream",
     "text": [
      "GPU available: False, used: False\n",
      "TPU available: False, using: 0 TPU cores\n",
      "IPU available: False, using: 0 IPUs\n",
      "HPU available: False, using: 0 HPUs\n",
      "\n",
      "  | Name           | Type          | Params\n",
      "-------------------------------------------------\n",
      "0 | common_module_ | NeuralNetwork | 8.5 K \n",
      "-------------------------------------------------\n",
      "8.5 K     Trainable params\n",
      "0         Non-trainable params\n",
      "8.5 K     Total params\n",
      "0.034     Total estimated model params size (MB)\n",
      "/home/carlos/anaconda3/envs/rkm/lib/python3.9/site-packages/pytorch_lightning/trainer/connectors/data_connector.py:224: PossibleUserWarning: The dataloader, train_dataloader, does not have many workers which may be a bottleneck. Consider increasing the value of the `num_workers` argument` (try 8 which is the number of cpus on this machine) in the `DataLoader` init to improve performance.\n",
      "  rank_zero_warn(\n",
      "/home/carlos/anaconda3/envs/rkm/lib/python3.9/site-packages/pytorch_lightning/trainer/trainer.py:1600: PossibleUserWarning: The number of training batches (3) is smaller than the logging interval Trainer(log_every_n_steps=50). Set a lower value for log_every_n_steps if you want to see logs for the training epoch.\n",
      "  rank_zero_warn(\n"
     ]
    },
    {
     "name": "stdout",
     "output_type": "stream",
     "text": [
      "Epoch 999: 100%|██████████| 3/3 [00:00<00:00, 64.08it/s, loss=0.265, v_num=84] "
     ]
    },
    {
     "name": "stderr",
     "output_type": "stream",
     "text": [
      "`Trainer.fit` stopped: `max_epochs=1000` reached.\n"
     ]
    },
    {
     "name": "stdout",
     "output_type": "stream",
     "text": [
      "Epoch 999: 100%|██████████| 3/3 [00:00<00:00, 50.65it/s, loss=0.265, v_num=84]\n"
     ]
    }
   ],
   "source": [
    "trainer = Trainer(max_epochs=1000)\n",
    "\n",
    "trainer.fit(model, train_dl)"
   ]
  },
  {
   "cell_type": "code",
   "execution_count": 45,
   "metadata": {},
   "outputs": [],
   "source": [
    "# pred = model(X_test, t_test)\n",
    "pred = model(X_test, t_test)"
   ]
  },
  {
   "cell_type": "code",
   "execution_count": 46,
   "metadata": {},
   "outputs": [
    {
     "data": {
      "text/plain": [
       "(33, 1)"
      ]
     },
     "execution_count": 46,
     "metadata": {},
     "output_type": "execute_result"
    }
   ],
   "source": [
    "pred_numpy = pred.detach().numpy()\n",
    "pred_numpy.shape"
   ]
  },
  {
   "cell_type": "code",
   "execution_count": 47,
   "metadata": {},
   "outputs": [
    {
     "name": "stderr",
     "output_type": "stream",
     "text": [
      "No handles with labels found to put in legend.\n",
      "No handles with labels found to put in legend.\n"
     ]
    },
    {
     "data": {
      "image/png": "[encoded data removed]",
      "text/plain": [
       "<Figure size 864x504 with 1 Axes>"
      ]
     },
     "metadata": {
      "needs_background": "light"
     },
     "output_type": "display_data"
    }
   ],
   "source": [
    "mtlds.plot_data_functions(X_test_numpy, pred_numpy)"
   ]
  },
  {
   "cell_type": "code",
   "execution_count": null,
   "metadata": {},
   "outputs": [],
   "source": []
  }
 ],
 "metadata": {
  "kernelspec": {
   "display_name": "rkm",
   "language": "python",
   "name": "python3"
  },
  "language_info": {
   "codemirror_mode": {
    "name": "ipython",
    "version": 3
   },
   "file_extension": ".py",
   "mimetype": "text/x-python",
   "name": "python",
   "nbconvert_exporter": "python",
   "pygments_lexer": "ipython3",
   "version": "3.9.7"
  },
  "orig_nbformat": 4,
  "vscode": {
   "interpreter": {
    "hash": "8a6a2d1ee85a695a4a79f9332092bdcbe99992a1094a2eafe79b6f00ee3e6f62"
   }
  }
 },
 "nbformat": 4,
 "nbformat_minor": 2
}
