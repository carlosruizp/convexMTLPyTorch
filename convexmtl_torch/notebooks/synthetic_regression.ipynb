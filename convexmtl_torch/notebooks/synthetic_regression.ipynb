{
 "cells": [
  {
   "cell_type": "code",
   "execution_count": 1,
   "metadata": {},
   "outputs": [],
   "source": [
    "import numpy as np\n",
    "from sklearn.svm import SVR\n",
    "import matplotlib.pyplot as plt\n",
    "\n",
    "from convexmtl_torch.model.utils import NeuralNetwork\n",
    "\n",
    "import torch\n",
    "from torch import nn\n",
    "from torch.nn import MSELoss\n",
    "from torch.utils.data import TensorDataset\n",
    "from torch.utils.data import DataLoader\n",
    "from pytorch_lightning import Trainer\n",
    "\n",
    "import torch.nn.functional as F\n",
    "\n",
    "from sklearn.neural_network import MLPRegressor\n",
    "\n",
    "from icecream import ic"
   ]
  },
  {
   "cell_type": "code",
   "execution_count": 2,
   "metadata": {},
   "outputs": [
    {
     "name": "stderr",
     "output_type": "stream",
     "text": [
      "ic| X.dtype: dtype('float64')\n"
     ]
    }
   ],
   "source": [
    "X = np.linspace(-10, 10, 5000)[:, None]\n",
    "ic(X.dtype)\n",
    "y = np.sin(X)\n",
    "\n",
    "# add noise to targets\n",
    "# y[::5] += 3 * (0.5 - np.random.rand(8))"
   ]
  },
  {
   "cell_type": "code",
   "execution_count": 3,
   "metadata": {},
   "outputs": [
    {
     "data": {
      "text/plain": [
       "<matplotlib.collections.PathCollection at 0x7f8b6d507880>"
      ]
     },
     "execution_count": 3,
     "metadata": {},
     "output_type": "execute_result"
    },
    {
     "data": {
      "image/png": "[encoded data removed]",
      "text/plain": [
       "<Figure size 432x288 with 1 Axes>"
      ]
     },
     "metadata": {
      "needs_background": "light"
     },
     "output_type": "display_data"
    }
   ],
   "source": [
    "plt.scatter(\n",
    "    X,\n",
    "    y,\n",
    "    )"
   ]
  },
  {
   "cell_type": "code",
   "execution_count": 4,
   "metadata": {},
   "outputs": [
    {
     "name": "stderr",
     "output_type": "stream",
     "text": [
      "ic| X_train.dtype: torch.float32\n",
      "ic| X_train.dtype: torch.float32\n",
      "ic| X_train.shape: torch.Size([5000, 1])\n"
     ]
    }
   ],
   "source": [
    "# X_train, y_train = map(torch.tensor, (X, y))\n",
    "\n",
    "\n",
    "# nums = np.random.uniform(-10,10,128)\n",
    "# ic(nums.dtype)\n",
    "# x = torch.Tensor(nums)\n",
    "# ic(x.dtype)\n",
    "\n",
    "X_train = torch.tensor(X).float()\n",
    "y_train = torch.tensor(y).float()\n",
    "\n",
    "ic(X_train.dtype)\n",
    "\n",
    "# X_train = X_train.float()\n",
    "# y_train = y_train.float()\n",
    "\n",
    "ic(X_train.dtype)\n",
    "\n",
    "ic(X_train.shape)\n",
    "\n",
    "train_ds = TensorDataset(X_train, y_train)\n",
    "\n",
    "train_dl = DataLoader(train_ds, batch_size=128, shuffle=True)"
   ]
  },
  {
   "cell_type": "code",
   "execution_count": 5,
   "metadata": {},
   "outputs": [],
   "source": [
    "model = NeuralNetwork(n_features=1, n_hidden=256)"
   ]
  },
  {
   "cell_type": "code",
   "execution_count": 6,
   "metadata": {},
   "outputs": [
    {
     "name": "stderr",
     "output_type": "stream",
     "text": [
      "GPU available: False, used: False\n",
      "TPU available: False, using: 0 TPU cores\n",
      "IPU available: False, using: 0 IPUs\n",
      "HPU available: False, using: 0 HPUs\n",
      "\n",
      "  | Name              | Type       | Params\n",
      "-------------------------------------------------\n",
      "0 | linear_relu_stack | Sequential | 132 K \n",
      "-------------------------------------------------\n",
      "132 K     Trainable params\n",
      "0         Non-trainable params\n",
      "132 K     Total params\n",
      "0.529     Total estimated model params size (MB)\n",
      "/home/carlos/anaconda3/envs/rkm/lib/python3.9/site-packages/pytorch_lightning/trainer/connectors/data_connector.py:224: PossibleUserWarning: The dataloader, train_dataloader, does not have many workers which may be a bottleneck. Consider increasing the value of the `num_workers` argument` (try 8 which is the number of cpus on this machine) in the `DataLoader` init to improve performance.\n",
      "  rank_zero_warn(\n",
      "/home/carlos/anaconda3/envs/rkm/lib/python3.9/site-packages/pytorch_lightning/trainer/trainer.py:1600: PossibleUserWarning: The number of training batches (40) is smaller than the logging interval Trainer(log_every_n_steps=50). Set a lower value for log_every_n_steps if you want to see logs for the training epoch.\n",
      "  rank_zero_warn(\n"
     ]
    },
    {
     "name": "stdout",
     "output_type": "stream",
     "text": [
      "Epoch 19: 100%|██████████| 40/40 [00:00<00:00, 65.74it/s, loss=0.00573, v_num=85]"
     ]
    },
    {
     "name": "stderr",
     "output_type": "stream",
     "text": [
      "`Trainer.fit` stopped: `max_epochs=20` reached.\n"
     ]
    },
    {
     "name": "stdout",
     "output_type": "stream",
     "text": [
      "Epoch 19: 100%|██████████| 40/40 [00:00<00:00, 64.60it/s, loss=0.00573, v_num=85]\n"
     ]
    }
   ],
   "source": [
    "trainer = Trainer(max_epochs=20)\n",
    "\n",
    "trainer.fit(model, train_dl)\n"
   ]
  },
  {
   "cell_type": "code",
   "execution_count": 7,
   "metadata": {},
   "outputs": [],
   "source": [
    "pred = model(X_train)\n",
    "pred_numpy = pred.detach().numpy()"
   ]
  },
  {
   "cell_type": "code",
   "execution_count": 8,
   "metadata": {},
   "outputs": [
    {
     "data": {
      "text/plain": [
       "<matplotlib.collections.PathCollection at 0x7f8b6c1039a0>"
      ]
     },
     "execution_count": 8,
     "metadata": {},
     "output_type": "execute_result"
    },
    {
     "data": {
      "image/png": "[encoded data removed]",
      "text/plain": [
       "<Figure size 432x288 with 1 Axes>"
      ]
     },
     "metadata": {
      "needs_background": "light"
     },
     "output_type": "display_data"
    }
   ],
   "source": [
    "plt.scatter(\n",
    "    X,\n",
    "    pred_numpy,\n",
    "    )"
   ]
  },
  {
   "cell_type": "code",
   "execution_count": 9,
   "metadata": {},
   "outputs": [
    {
     "data": {
      "text/plain": [
       "MLPRegressor(hidden_layer_sizes=(64, 64))"
      ]
     },
     "execution_count": 9,
     "metadata": {},
     "output_type": "execute_result"
    }
   ],
   "source": [
    "mlp = MLPRegressor(max_iter=200, hidden_layer_sizes=(64, 64,))\n",
    "mlp"
   ]
  },
  {
   "cell_type": "code",
   "execution_count": 10,
   "metadata": {},
   "outputs": [
    {
     "name": "stderr",
     "output_type": "stream",
     "text": [
      "/home/carlos/anaconda3/envs/rkm/lib/python3.9/site-packages/sklearn/neural_network/_multilayer_perceptron.py:1599: DataConversionWarning: A column-vector y was passed when a 1d array was expected. Please change the shape of y to (n_samples, ), for example using ravel().\n",
      "  y = column_or_1d(y, warn=True)\n"
     ]
    },
    {
     "data": {
      "text/plain": [
       "MLPRegressor(hidden_layer_sizes=(64, 64))"
      ]
     },
     "execution_count": 10,
     "metadata": {},
     "output_type": "execute_result"
    }
   ],
   "source": [
    "mlp.fit(X, y)"
   ]
  },
  {
   "cell_type": "code",
   "execution_count": 11,
   "metadata": {},
   "outputs": [
    {
     "data": {
      "text/plain": [
       "<matplotlib.collections.PathCollection at 0x7f8b6c0a3a60>"
      ]
     },
     "execution_count": 11,
     "metadata": {},
     "output_type": "execute_result"
    },
    {
     "data": {
      "image/png": "[encoded data removed]",
      "text/plain": [
       "<Figure size 432x288 with 1 Axes>"
      ]
     },
     "metadata": {
      "needs_background": "light"
     },
     "output_type": "display_data"
    }
   ],
   "source": [
    "pred = mlp.predict(X)\n",
    "\n",
    "plt.scatter(X, pred)"
   ]
  },
  {
   "cell_type": "code",
   "execution_count": 12,
   "metadata": {},
   "outputs": [],
   "source": [
    "class NeuralNetworkSin(nn.Module):\n",
    "    def __init__(self):\n",
    "        super().__init__()\n",
    "        self.input = nn.Linear(1,256)\n",
    "        self.hidden_1 = nn.Linear(256,256)\n",
    "        self.hidden_2 = nn.Linear(256,256)\n",
    "        self.out = nn.Linear(256,1)\n",
    "        # self.double()\n",
    "    \n",
    "    def forward(self,x):\n",
    "        x = self.input(x)\n",
    "        x = F.elu(x)\n",
    "        x = self.hidden_1(x)\n",
    "        x = F.elu(x)\n",
    "        x = self.hidden_2(x)\n",
    "        x = F.elu(x)\n",
    "        x = self.out(x)\n",
    "        return x\n",
    "\n",
    "\n",
    "def train_network(epochs):\n",
    "    # network = NeuralNetworkSin()\n",
    "    network = NeuralNetwork(n_features=1)\n",
    "    optimizer = torch.optim.Adam(network.parameters(), lr = 3e-4)\n",
    "    loss_fn = torch.nn.MSELoss()\n",
    "    batch_size = 128\n",
    "    losses = list()\n",
    "    for epoch in range(epochs):\n",
    "        if epoch%100 == 0 and epoch != 0:\n",
    "            print('Epoch: '+ str(epoch))\n",
    "            print('Last error: ' + str(loss))\n",
    "\n",
    "        for i, (xb, yb) in enumerate(train_dl):\n",
    "            #train network\n",
    "            optimizer.zero_grad()\n",
    "            net_output = network(xb)\n",
    "            loss = loss_fn(yb, net_output)\n",
    "            loss.backward()\n",
    "            optimizer.step()\n",
    "\n",
    "        # # create training numbers\n",
    "        # nums = np.random.uniform(-10,10,batch_size)\n",
    "        # x = torch.Tensor(nums)\n",
    "        # y = torch.Tensor(np.sin(nums))\n",
    "        # y = y.view(batch_size,-1)\n",
    "\n",
    "        # ic(x.view(batch_size,-1).shape)\n",
    "        # ic(y.shape)\n",
    "        # #train network\n",
    "        # optimizer.zero_grad()\n",
    "        # net_output = network(x.view(batch_size,-1))\n",
    "        # loss = loss_fn(y,net_output)\n",
    "        # loss.backward()\n",
    "        # optimizer.step()\n",
    "\n",
    "            \n",
    "    plt.plot(range(len(losses)), losses)\n",
    "    plt.show()\n",
    "    torch.save(network.state_dict(),'trained_network.pt')\n",
    "\n",
    "    #resulting function\n",
    "    true_sin = np.sin(X)\n",
    "    with torch.no_grad():\n",
    "        net_sin = network(X_train).squeeze().numpy()\n",
    "    plt.plot(X, y_train.detach().numpy(), label = 'Sine function')\n",
    "    plt.plot(X, net_sin, label = 'Neural network')\n",
    "    plt.legend(loc = 1)\n",
    "    plt.xlim(-10,10)\n",
    "    plt.show()"
   ]
  },
  {
   "cell_type": "code",
   "execution_count": 13,
   "metadata": {},
   "outputs": [
    {
     "name": "stdout",
     "output_type": "stream",
     "text": [
      "Epoch: 100\n",
      "Last error: tensor(6.9380e-05, grad_fn=<MseLossBackward0>)\n",
      "Epoch: 200\n",
      "Last error: tensor(1.7046e-05, grad_fn=<MseLossBackward0>)\n",
      "Epoch: 300\n",
      "Last error: tensor(4.6899e-05, grad_fn=<MseLossBackward0>)\n",
      "Epoch: 400\n",
      "Last error: tensor(3.0526e-05, grad_fn=<MseLossBackward0>)\n"
     ]
    },
    {
     "data": {
      "image/png": "[encoded data removed]",
      "text/plain": [
       "<Figure size 432x288 with 1 Axes>"
      ]
     },
     "metadata": {
      "needs_background": "light"
     },
     "output_type": "display_data"
    },
    {
     "data": {
      "image/png": "[encoded data removed]",
      "text/plain": [
       "<Figure size 432x288 with 1 Axes>"
      ]
     },
     "metadata": {
      "needs_background": "light"
     },
     "output_type": "display_data"
    }
   ],
   "source": [
    "train_network(500)"
   ]
  },
  {
   "cell_type": "code",
   "execution_count": null,
   "metadata": {},
   "outputs": [],
   "source": []
  }
 ],
 "metadata": {
  "kernelspec": {
   "display_name": "rkm",
   "language": "python",
   "name": "python3"
  },
  "language_info": {
   "codemirror_mode": {
    "name": "ipython",
    "version": 3
   },
   "file_extension": ".py",
   "mimetype": "text/x-python",
   "name": "python",
   "nbconvert_exporter": "python",
   "pygments_lexer": "ipython3",
   "version": "3.9.7"
  },
  "orig_nbformat": 4,
  "vscode": {
   "interpreter": {
    "hash": "8a6a2d1ee85a695a4a79f9332092bdcbe99992a1094a2eafe79b6f00ee3e6f62"
   }
  }
 },
 "nbformat": 4,
 "nbformat_minor": 2
}
